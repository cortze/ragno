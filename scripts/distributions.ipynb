{
 "cells": [
  {
   "cell_type": "code",
   "execution_count": null,
   "metadata": {
    "collapsed": true
   },
   "outputs": [],
   "source": [
    "import os\n",
    "import sqlalchemy as sa\n",
    "import numpy as np\n",
    "import pandas as pd\n",
    "import seaborn as sns\n",
    "import matplotlib.pyplot as plt\n",
    "from IPython.display import display\n",
    "from dotenv import load_dotenv\n",
    "\n",
    "# Load the .env configuration\n",
    "ENV_FILE = '.env'\n",
    "_ = load_dotenv()\n",
    "\n",
    "DB_URL = os.getenv('DB_URL')\n",
    "CSVS = os.getenv('CSV_FOLDER')\n",
    "IMGS = os.getenv('IMAGE_FOLDER')\n",
    "\n",
    "# Connection to the db\n",
    "engine = sa.create_engine(DB_URL)\n",
    "conn = engine.connect()"
   ]
  },
  {
   "cell_type": "code",
   "execution_count": null,
   "outputs": [],
   "source": [
    "# Get discover/connection ratio\n",
    "sql_query = \"\"\"\n",
    "SELECT\n",
    "    first_seen,\n",
    "    origin\n",
    "FROM enrs\n",
    "ORDER BY first_seen ASC;\n",
    "\"\"\"\n",
    "\n",
    "df = pd.read_sql_query(sa.text(sql_query), conn)\n",
    "display(df)\n",
    "# Peer Discover Rate\n",
    "sns.set()\n",
    "p = sns.lineplot(data=df, x='first_seen', y=np.linspace(0, len(df), len(df)), hue='origin')\n",
    "p.set(title='Unique discovered nodes by Ragno', xlabel='Crawling dates', ylabel='Aggregated unique nodes')\n",
    "plt.xticks(rotation=30)\n",
    "plt.savefig(IMGS+'/node_discovery_ratio.png')\n"
   ],
   "metadata": {
    "collapsed": false
   }
  },
  {
   "cell_type": "code",
   "execution_count": null,
   "outputs": [],
   "source": [
    "# Connection ratio\n",
    "sql_query = \"\"\"\n",
    "SELECT\n",
    "    node_id,\n",
    "    first_connected\n",
    "FROM node_info\n",
    "WHERE first_connected IS NOT NULL\n",
    "ORDER BY first_connected ASC;\n",
    "\"\"\"\n",
    "\n",
    "df = pd.read_sql_query(sa.text(sql_query), conn)\n",
    "display(df)\n",
    "# Peer Discover Rate\n",
    "sns.set()\n",
    "p = sns.lineplot(data=df, x='first_connected', y=np.linspace(0, len(df), len(df)))\n",
    "p.set(title='Unique connected nodes by Ragno', xlabel='Crawling dates', ylabel='Aggregated unique nodes')\n",
    "plt.xticks(rotation=30)\n",
    "plt.savefig(IMGS+'/node_connection_ratio.png')"
   ],
   "metadata": {
    "collapsed": false
   }
  },
  {
   "cell_type": "code",
   "execution_count": null,
   "outputs": [],
   "source": [
    "# Node uptime distribution (curren non-deprecated node count)\n",
    "sql_query = \"\"\"\n",
    "SELECT\n",
    "    deprecated,\n",
    "    count(deprecated) as nodes\n",
    "FROM node_info\n",
    "GROUP BY deprecated\n",
    "ORDER BY nodes DESC;\n",
    "\"\"\"\n",
    "\n",
    "df = pd.read_sql_query(sa.text(sql_query), conn)\n",
    "display(df)\n",
    "# Peer Discover Rate\n",
    "sns.set()\n",
    "p = sns.barplot(data=df, x='deprecated', y='nodes')\n",
    "p.set(title='Ratio of active nodes detected by Ragno', xlabel='deprecation status', ylabel='Unique nodes')\n",
    "plt.xticks(rotation=30)\n",
    "plt.savefig(IMGS+'/current_actve_node_count.png')"
   ],
   "metadata": {
    "collapsed": false
   }
  },
  {
   "cell_type": "code",
   "execution_count": null,
   "outputs": [],
   "source": [
    " # Get the client Distribution\n",
    "sql_query = \"\"\"\n",
    "SELECT\n",
    "    client_name,\n",
    "    count(client_name) as nodes\n",
    "FROM node_info\n",
    "WHERE deprecated='false'\n",
    "GROUP BY client_name\n",
    "ORDER BY nodes DESC;\n",
    "\"\"\"\n",
    "\n",
    "df = pd.read_sql_query(sa.text(sql_query), conn)\n",
    "display(df)"
   ],
   "metadata": {
    "collapsed": false
   }
  }
 ],
 "metadata": {
  "kernelspec": {
   "display_name": "Python 3",
   "language": "python",
   "name": "python3"
  },
  "language_info": {
   "codemirror_mode": {
    "name": "ipython",
    "version": 2
   },
   "file_extension": ".py",
   "mimetype": "text/x-python",
   "name": "python",
   "nbconvert_exporter": "python",
   "pygments_lexer": "ipython2",
   "version": "2.7.6"
  }
 },
 "nbformat": 4,
 "nbformat_minor": 0
}
